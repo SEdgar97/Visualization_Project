{
 "cells": [
  {
   "cell_type": "code",
   "execution_count": 9,
   "metadata": {},
   "outputs": [
    {
     "name": "stdout",
     "output_type": "stream",
     "text": [
      "Collecting csv-2-mongo\n",
      "  Downloading csv_2_mongo-0.0.2-py3-none-any.whl (3.8 kB)\n",
      "Requirement already satisfied: click in c:\\users\\sledg\\anaconda3\\lib\\site-packages (from csv-2-mongo) (7.1.2)\n",
      "Requirement already satisfied: pandas in c:\\users\\sledg\\anaconda3\\lib\\site-packages (from csv-2-mongo) (1.0.5)\n",
      "Requirement already satisfied: pymongo in c:\\users\\sledg\\anaconda3\\lib\\site-packages (from csv-2-mongo) (3.11.1)\n",
      "Requirement already satisfied: numpy>=1.13.3 in c:\\users\\sledg\\anaconda3\\lib\\site-packages (from pandas->csv-2-mongo) (1.18.5)\n",
      "Requirement already satisfied: pytz>=2017.2 in c:\\users\\sledg\\anaconda3\\lib\\site-packages (from pandas->csv-2-mongo) (2020.1)\n",
      "Requirement already satisfied: python-dateutil>=2.6.1 in c:\\users\\sledg\\anaconda3\\lib\\site-packages (from pandas->csv-2-mongo) (2.8.1)\n",
      "Requirement already satisfied: six>=1.5 in c:\\users\\sledg\\appdata\\roaming\\python\\python38\\site-packages (from python-dateutil>=2.6.1->pandas->csv-2-mongo) (1.15.0)\n",
      "Installing collected packages: csv-2-mongo\n",
      "Successfully installed csv-2-mongo-0.0.2\n"
     ]
    }
   ],
   "source": [
    "!pip install csv-2-mongo\n",
    "import pandas as pd\n",
    "import pymongo\n",
    "from pymongo import MongoClient\n",
    "import csv\n",
    "import json\n"
   ]
  },
  {
   "cell_type": "code",
   "execution_count": 10,
   "metadata": {},
   "outputs": [],
   "source": [
    "#create connection to mongodb\n",
    "client= MongoClient('localhost', 27017)"
   ]
  },
  {
   "cell_type": "code",
   "execution_count": 11,
   "metadata": {},
   "outputs": [
    {
     "data": {
      "text/plain": [
       "Database(MongoClient(host=['localhost:27017'], document_class=dict, tz_aware=False, connect=True), 'gun_violence_db')"
      ]
     },
     "execution_count": 11,
     "metadata": {},
     "output_type": "execute_result"
    }
   ],
   "source": [
    "db=client['gun_violence_db']\n",
    "db"
   ]
  },
  {
   "cell_type": "code",
   "execution_count": 12,
   "metadata": {
    "scrolled": true
   },
   "outputs": [
    {
     "data": {
      "text/plain": [
       "Collection(Database(MongoClient(host=['localhost:27017'], document_class=dict, tz_aware=False, connect=True), 'gun_violence_db'), 'gun_violence_data')"
      ]
     },
     "execution_count": 12,
     "metadata": {},
     "output_type": "execute_result"
    }
   ],
   "source": [
    "collection=db.gun_violence_data\n",
    "collection"
   ]
  },
  {
   "cell_type": "code",
   "execution_count": 12,
   "metadata": {
    "scrolled": true
   },
   "outputs": [
    {
     "data": {
      "text/plain": [
       "Collection(Database(MongoClient(host=['localhost:27017'], document_class=dict, tz_aware=False, connect=True), 'gun_violence_db'), 'gun_violence_data')"
      ]
     },
     "execution_count": 12,
     "metadata": {},
     "output_type": "execute_result"
    }
   ],
   "source": [
    "collection=db.gun_violence_data\n",
    "collection"
   ]
  },
  {
   "cell_type": "code",
   "execution_count": 18,
   "metadata": {},
   "outputs": [],
   "source": [
    "#open csv and jsonify data\n",
    "df= pd.read_csv('data.csv',encoding = 'ISO-8859-1')\n",
    "df.to_json('new_data.json')\n",
    "json_df=open('new_data.json').read()\n",
    "data=json.loads(json_df)"
   ]
  },
  {
   "cell_type": "code",
   "execution_count": null,
   "metadata": {},
   "outputs": [],
   "source": [
    "#clean data\n"
   ]
  },
  {
   "cell_type": "code",
   "execution_count": null,
   "metadata": {},
   "outputs": [],
   "source": [
    "#import data into mongodb\n"
   ]
  },
  {
   "cell_type": "code",
   "execution_count": null,
   "metadata": {},
   "outputs": [],
   "source": [
    "#run flask \n"
   ]
  }
 ],
 "metadata": {
  "kernelspec": {
   "display_name": "Python 3",
   "language": "python",
   "name": "python3"
  },
  "language_info": {
   "codemirror_mode": {
    "name": "ipython",
    "version": 3
   },
   "file_extension": ".py",
   "mimetype": "text/x-python",
   "name": "python",
   "nbconvert_exporter": "python",
   "pygments_lexer": "ipython3",
   "version": "3.8.3"
  }
 },
 "nbformat": 4,
 "nbformat_minor": 4
}
